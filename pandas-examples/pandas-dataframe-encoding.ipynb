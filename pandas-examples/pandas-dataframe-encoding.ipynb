{
 "cells": [
  {
   "cell_type": "markdown",
   "metadata": {},
   "source": [
    "# Dataframe and string encodings\n",
    "There are a few option how to handle decoding issues:\n",
    "\n",
    "- `strict` (raise a UnicodeDecodeError exception)\n",
    "- `replace` (add U+FFFD, ‘REPLACEMENT CHARACTER’), or\n",
    "- `ignore` (just leave the character out of the Unicode result)\n",
    "\n",
    "Examples:\n",
    "\n",
    "    >>> unicode('\\x80abc', errors='strict')     \n",
    "    Traceback (most recent call last):\n",
    "        ...\n",
    "    UnicodeDecodeError: 'ascii' codec can't decode byte 0x80 in position 0:\n",
    "    ordinal not in range(128)\n",
    "    >>> unicode('\\x80abc', errors='replace')\n",
    "    u'\\ufffdabc'\n",
    "    >>> unicode('\\x80abc', errors='ignore')\n",
    "    u'abc'\n"
   ]
  },
  {
   "cell_type": "code",
   "execution_count": 1,
   "metadata": {
    "collapsed": true
   },
   "outputs": [],
   "source": [
    "import numpy as np\n",
    "import pandas as pd"
   ]
  },
  {
   "cell_type": "code",
   "execution_count": 2,
   "metadata": {
    "collapsed": true
   },
   "outputs": [],
   "source": [
    "df = pd.DataFrame(\n",
    "    {'a': ['foo1', 'bar1', 'baz1'],\n",
    "     'b': ['foo2', 'bar2', 'baz2'],\n",
    "     'c': ['foo3', 'bar3', 'baz33️⃣'],\n",
    "     'd': ['foo4', 'bar5', 'baz5'],\n",
    "     'e': ['foo4', 'bar5', 'baz5'],\n",
    "     'f': [6, 6, 6]}\n",
    ")"
   ]
  },
  {
   "cell_type": "code",
   "execution_count": 3,
   "metadata": {
    "scrolled": false
   },
   "outputs": [
    {
     "data": {
      "text/html": [
       "<div>\n",
       "<style>\n",
       "    .dataframe thead tr:only-child th {\n",
       "        text-align: right;\n",
       "    }\n",
       "\n",
       "    .dataframe thead th {\n",
       "        text-align: left;\n",
       "    }\n",
       "\n",
       "    .dataframe tbody tr th {\n",
       "        vertical-align: top;\n",
       "    }\n",
       "</style>\n",
       "<table border=\"1\" class=\"dataframe\">\n",
       "  <thead>\n",
       "    <tr style=\"text-align: right;\">\n",
       "      <th></th>\n",
       "      <th>a</th>\n",
       "      <th>b</th>\n",
       "      <th>c</th>\n",
       "      <th>d</th>\n",
       "      <th>e</th>\n",
       "      <th>f</th>\n",
       "    </tr>\n",
       "  </thead>\n",
       "  <tbody>\n",
       "    <tr>\n",
       "      <th>0</th>\n",
       "      <td>foo1</td>\n",
       "      <td>foo2</td>\n",
       "      <td>foo3</td>\n",
       "      <td>foo4</td>\n",
       "      <td>foo4</td>\n",
       "      <td>6</td>\n",
       "    </tr>\n",
       "    <tr>\n",
       "      <th>1</th>\n",
       "      <td>bar1</td>\n",
       "      <td>bar2</td>\n",
       "      <td>bar3</td>\n",
       "      <td>bar5</td>\n",
       "      <td>bar5</td>\n",
       "      <td>6</td>\n",
       "    </tr>\n",
       "    <tr>\n",
       "      <th>2</th>\n",
       "      <td>baz1</td>\n",
       "      <td>baz2</td>\n",
       "      <td>baz33️⃣</td>\n",
       "      <td>baz5</td>\n",
       "      <td>baz5</td>\n",
       "      <td>6</td>\n",
       "    </tr>\n",
       "  </tbody>\n",
       "</table>\n",
       "</div>"
      ],
      "text/plain": [
       "      a     b        c     d     e  f\n",
       "0  foo1  foo2     foo3  foo4  foo4  6\n",
       "1  bar1  bar2     bar3  bar5  bar5  6\n",
       "2  baz1  baz2  baz33️⃣  baz5  baz5  6"
      ]
     },
     "execution_count": 3,
     "metadata": {},
     "output_type": "execute_result"
    }
   ],
   "source": [
    "df"
   ]
  },
  {
   "cell_type": "code",
   "execution_count": 4,
   "metadata": {},
   "outputs": [
    {
     "data": {
      "text/plain": [
       "a    object\n",
       "b    object\n",
       "c    object\n",
       "d    object\n",
       "e    object\n",
       "f     int64\n",
       "dtype: object"
      ]
     },
     "execution_count": 4,
     "metadata": {},
     "output_type": "execute_result"
    }
   ],
   "source": [
    "df.dtypes"
   ]
  },
  {
   "cell_type": "code",
   "execution_count": 5,
   "metadata": {
    "collapsed": true
   },
   "outputs": [],
   "source": [
    "def convert(s):\n",
    "    return s.encode('latin1', 'ignore')"
   ]
  },
  {
   "cell_type": "code",
   "execution_count": 6,
   "metadata": {},
   "outputs": [
    {
     "data": {
      "text/plain": [
       "0     b'foo3'\n",
       "1     b'bar3'\n",
       "2    b'baz33'\n",
       "Name: c, dtype: object"
      ]
     },
     "execution_count": 6,
     "metadata": {},
     "output_type": "execute_result"
    }
   ],
   "source": [
    "df['c'].apply(convert)"
   ]
  },
  {
   "cell_type": "code",
   "execution_count": 7,
   "metadata": {
    "collapsed": true
   },
   "outputs": [],
   "source": [
    "# replace column c\n",
    "df.c = df.c.str.encode('latin1', 'replace')"
   ]
  },
  {
   "cell_type": "code",
   "execution_count": 8,
   "metadata": {},
   "outputs": [
    {
     "data": {
      "text/html": [
       "<div>\n",
       "<style>\n",
       "    .dataframe thead tr:only-child th {\n",
       "        text-align: right;\n",
       "    }\n",
       "\n",
       "    .dataframe thead th {\n",
       "        text-align: left;\n",
       "    }\n",
       "\n",
       "    .dataframe tbody tr th {\n",
       "        vertical-align: top;\n",
       "    }\n",
       "</style>\n",
       "<table border=\"1\" class=\"dataframe\">\n",
       "  <thead>\n",
       "    <tr style=\"text-align: right;\">\n",
       "      <th></th>\n",
       "      <th>a</th>\n",
       "      <th>b</th>\n",
       "      <th>c</th>\n",
       "      <th>d</th>\n",
       "      <th>e</th>\n",
       "      <th>f</th>\n",
       "    </tr>\n",
       "  </thead>\n",
       "  <tbody>\n",
       "    <tr>\n",
       "      <th>0</th>\n",
       "      <td>foo1</td>\n",
       "      <td>foo2</td>\n",
       "      <td>b'foo3'</td>\n",
       "      <td>foo4</td>\n",
       "      <td>foo4</td>\n",
       "      <td>6</td>\n",
       "    </tr>\n",
       "    <tr>\n",
       "      <th>1</th>\n",
       "      <td>bar1</td>\n",
       "      <td>bar2</td>\n",
       "      <td>b'bar3'</td>\n",
       "      <td>bar5</td>\n",
       "      <td>bar5</td>\n",
       "      <td>6</td>\n",
       "    </tr>\n",
       "    <tr>\n",
       "      <th>2</th>\n",
       "      <td>baz1</td>\n",
       "      <td>baz2</td>\n",
       "      <td>b'baz33??'</td>\n",
       "      <td>baz5</td>\n",
       "      <td>baz5</td>\n",
       "      <td>6</td>\n",
       "    </tr>\n",
       "  </tbody>\n",
       "</table>\n",
       "</div>"
      ],
      "text/plain": [
       "      a     b           c     d     e  f\n",
       "0  foo1  foo2     b'foo3'  foo4  foo4  6\n",
       "1  bar1  bar2     b'bar3'  bar5  bar5  6\n",
       "2  baz1  baz2  b'baz33??'  baz5  baz5  6"
      ]
     },
     "execution_count": 8,
     "metadata": {},
     "output_type": "execute_result"
    }
   ],
   "source": [
    "df"
   ]
  },
  {
   "cell_type": "code",
   "execution_count": 9,
   "metadata": {},
   "outputs": [
    {
     "name": "stdout",
     "output_type": "stream",
     "text": [
      "      a     b           c     d     e  f\n",
      "0  foo1  foo2     b'foo3'  foo4  foo4  6\n",
      "1  bar1  bar2     b'bar3'  bar5  bar5  6\n",
      "2  baz1  baz2  b'baz33??'  baz5  baz5  6\n"
     ]
    }
   ],
   "source": [
    "print(df.to_string())"
   ]
  }
 ],
 "metadata": {
  "kernelspec": {
   "display_name": "Python 3",
   "language": "python",
   "name": "python3"
  },
  "language_info": {
   "codemirror_mode": {
    "name": "ipython",
    "version": 3
   },
   "file_extension": ".py",
   "mimetype": "text/x-python",
   "name": "python",
   "nbconvert_exporter": "python",
   "pygments_lexer": "ipython3",
   "version": "3.5.3"
  }
 },
 "nbformat": 4,
 "nbformat_minor": 2
}
