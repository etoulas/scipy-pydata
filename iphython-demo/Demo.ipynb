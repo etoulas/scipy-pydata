{
 "cells": [
  {
   "cell_type": "markdown",
   "metadata": {
    "slideshow": {
     "slide_type": "slide"
    }
   },
   "source": [
    "# Demo slides for RISE"
   ]
  },
  {
   "cell_type": "markdown",
   "metadata": {
    "slideshow": {
     "slide_type": "subslide"
    }
   },
   "source": [
    "This is just a demo (this is a _sub-slide_)"
   ]
  },
  {
   "cell_type": "markdown",
   "metadata": {
    "slideshow": {
     "slide_type": "slide"
    }
   },
   "source": [
    "## Presentation extension \"RISE\"\n",
    "To install the `reveal.js` extension for _Jupyter:_\n",
    "- Go to https://github.com/damianavila/RISE\n",
    "- Follow the installation steps\n",
    "- Try it out! (see next slide)\n",
    "\n",
    "NB: it is possible to use left/right arrow keys to navigate. The down/up arrow keys reveal another layer (dimension) of the slides!"
   ]
  },
  {
   "cell_type": "markdown",
   "metadata": {
    "slideshow": {
     "slide_type": "slide"
    }
   },
   "source": [
    "To define the \"Slide Type\" of a cell:\n",
    "- In the menu: View > Cell Toolbar > Slideshow\n",
    "- Observe the new Slide Type dropdown at the top-right corner of each cell\n",
    "\n",
    "To start the presentation click on the **icon with the bar-chart.**"
   ]
  },
  {
   "cell_type": "code",
   "execution_count": 8,
   "metadata": {
    "slideshow": {
     "slide_type": "slide"
    }
   },
   "outputs": [
    {
     "name": "stdout",
     "output_type": "stream",
     "text": [
      "You can run your code on the slides.\n",
      "Click on this cell and edit the code,\n",
      "press `Alt+Enter` to re-evaluate the cell!\n"
     ]
    }
   ],
   "source": [
    "print('You can run your code on the slides.')\n",
    "wow = ['Click on this cell and edit the code,',\n",
    "              'press `Alt+Enter` to re-evaluate the cell!']\n",
    "print('\\n'.join(wow))"
   ]
  },
  {
   "cell_type": "markdown",
   "metadata": {
    "slideshow": {
     "slide_type": "notes"
    }
   },
   "source": [
    "That's it pretty much!"
   ]
  },
  {
   "cell_type": "code",
   "execution_count": 10,
   "metadata": {
    "slideshow": {
     "slide_type": "skip"
    }
   },
   "outputs": [],
   "source": [
    "irrelevant = 'this cell will be skipped in the presentation mode.'"
   ]
  },
  {
   "cell_type": "raw",
   "metadata": {
    "slideshow": {
     "slide_type": "slide"
    }
   },
   "source": [
    "END 👍"
   ]
  }
 ],
 "metadata": {
  "celltoolbar": "Slideshow",
  "kernelspec": {
   "display_name": "Python 3",
   "language": "python",
   "name": "python3"
  },
  "language_info": {
   "codemirror_mode": {
    "name": "ipython",
    "version": 3
   },
   "file_extension": ".py",
   "mimetype": "text/x-python",
   "name": "python",
   "nbconvert_exporter": "python",
   "pygments_lexer": "ipython3",
   "version": "3.5.3"
  }
 },
 "nbformat": 4,
 "nbformat_minor": 2
}
